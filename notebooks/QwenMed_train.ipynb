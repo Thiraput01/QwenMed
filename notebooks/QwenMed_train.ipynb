{
  "cells": [
    {
      "cell_type": "markdown",
      "metadata": {
        "id": "view-in-github",
        "colab_type": "text"
      },
      "source": [
        "<a href=\"https://colab.research.google.com/github/Thiraput01/QwenMed/blob/main/notebooks/QwenMed_train.ipynb\" target=\"_parent\"><img src=\"https://colab.research.google.com/assets/colab-badge.svg\" alt=\"Open In Colab\"/></a>"
      ]
    },
    {
      "cell_type": "markdown",
      "source": [
        "# Import libs and set env"
      ],
      "metadata": {
        "id": "UWwZrGGylyda"
      },
      "id": "UWwZrGGylyda"
    },
    {
      "cell_type": "code",
      "execution_count": null,
      "id": "6c691be6",
      "metadata": {
        "execution": {
          "iopub.execute_input": "2025-06-16T04:12:06.418667Z",
          "iopub.status.busy": "2025-06-16T04:12:06.418357Z",
          "iopub.status.idle": "2025-06-16T04:12:19.693364Z",
          "shell.execute_reply": "2025-06-16T04:12:19.692607Z"
        },
        "id": "6c691be6",
        "outputId": "2c01d7c6-763d-49b3-b1d2-01c1a6a47413",
        "papermill": {
          "duration": 13.298638,
          "end_time": "2025-06-16T04:12:19.694984",
          "exception": false,
          "start_time": "2025-06-16T04:12:06.396346",
          "status": "completed"
        },
        "tags": []
      },
      "outputs": [
        {
          "name": "stdout",
          "output_type": "stream",
          "text": [
            "Collecting bitsandbytes\r\n",
            "  Downloading bitsandbytes-0.46.0-py3-none-manylinux_2_24_x86_64.whl.metadata (10 kB)\r\n",
            "Requirement already satisfied: accelerate in /usr/local/lib/python3.11/dist-packages (1.5.2)\r\n",
            "Collecting xformers==0.0.29.post3\r\n",
            "  Downloading xformers-0.0.29.post3-cp311-cp311-manylinux_2_28_x86_64.whl.metadata (1.0 kB)\r\n",
            "Requirement already satisfied: peft in /usr/local/lib/python3.11/dist-packages (0.14.0)\r\n",
            "Collecting trl==0.15.2\r\n",
            "  Downloading trl-0.15.2-py3-none-any.whl.metadata (11 kB)\r\n",
            "Requirement already satisfied: triton in /usr/local/lib/python3.11/dist-packages (3.2.0)\r\n",
            "Collecting cut_cross_entropy\r\n",
            "  Downloading cut_cross_entropy-25.1.1-py3-none-any.whl.metadata (9.3 kB)\r\n",
            "Collecting unsloth_zoo\r\n",
            "  Downloading unsloth_zoo-2025.6.1-py3-none-any.whl.metadata (8.1 kB)\r\n",
            "Downloading xformers-0.0.29.post3-cp311-cp311-manylinux_2_28_x86_64.whl (43.4 MB)\r\n",
            "\u001b[2K   \u001b[90m━━━━━━━━━━━━━━━━━━━━━━━━━━━━━━━━━━━━━━━━\u001b[0m \u001b[32m43.4/43.4 MB\u001b[0m \u001b[31m41.7 MB/s\u001b[0m eta \u001b[36m0:00:00\u001b[0m\r\n",
            "\u001b[?25hDownloading trl-0.15.2-py3-none-any.whl (318 kB)\r\n",
            "\u001b[2K   \u001b[90m━━━━━━━━━━━━━━━━━━━━━━━━━━━━━━━━━━━━━━━━\u001b[0m \u001b[32m318.9/318.9 kB\u001b[0m \u001b[31m18.8 MB/s\u001b[0m eta \u001b[36m0:00:00\u001b[0m\r\n",
            "\u001b[?25hDownloading bitsandbytes-0.46.0-py3-none-manylinux_2_24_x86_64.whl (67.0 MB)\r\n",
            "\u001b[2K   \u001b[90m━━━━━━━━━━━━━━━━━━━━━━━━━━━━━━━━━━━━━━━━\u001b[0m \u001b[32m67.0/67.0 MB\u001b[0m \u001b[31m26.6 MB/s\u001b[0m eta \u001b[36m0:00:00\u001b[0m\r\n",
            "\u001b[?25hDownloading cut_cross_entropy-25.1.1-py3-none-any.whl (22 kB)\r\n",
            "Downloading unsloth_zoo-2025.6.1-py3-none-any.whl (147 kB)\r\n",
            "\u001b[2K   \u001b[90m━━━━━━━━━━━━━━━━━━━━━━━━━━━━━━━━━━━━━━━━\u001b[0m \u001b[32m147.4/147.4 kB\u001b[0m \u001b[31m11.1 MB/s\u001b[0m eta \u001b[36m0:00:00\u001b[0m\r\n",
            "\u001b[?25hInstalling collected packages: xformers, unsloth_zoo, trl, cut_cross_entropy, bitsandbytes\r\n",
            "Successfully installed bitsandbytes-0.46.0 cut_cross_entropy-25.1.1 trl-0.15.2 unsloth_zoo-2025.6.1 xformers-0.0.29.post3\r\n",
            "Requirement already satisfied: sentencepiece in /usr/local/lib/python3.11/dist-packages (0.2.0)\r\n",
            "Requirement already satisfied: protobuf in /usr/local/lib/python3.11/dist-packages (3.20.3)\r\n",
            "Requirement already satisfied: datasets>=3.4.1 in /usr/local/lib/python3.11/dist-packages (3.6.0)\r\n",
            "Requirement already satisfied: huggingface_hub in /usr/local/lib/python3.11/dist-packages (0.31.1)\r\n",
            "Requirement already satisfied: hf_transfer in /usr/local/lib/python3.11/dist-packages (0.1.9)\r\n",
            "Requirement already satisfied: filelock in /usr/local/lib/python3.11/dist-packages (from datasets>=3.4.1) (3.18.0)\r\n",
            "Requirement already satisfied: numpy>=1.17 in /usr/local/lib/python3.11/dist-packages (from datasets>=3.4.1) (1.26.4)\r\n",
            "Requirement already satisfied: pyarrow>=15.0.0 in /usr/local/lib/python3.11/dist-packages (from datasets>=3.4.1) (19.0.1)\r\n",
            "Requirement already satisfied: dill<0.3.9,>=0.3.0 in /usr/local/lib/python3.11/dist-packages (from datasets>=3.4.1) (0.3.8)\r\n",
            "Requirement already satisfied: pandas in /usr/local/lib/python3.11/dist-packages (from datasets>=3.4.1) (2.2.3)\r\n",
            "Requirement already satisfied: requests>=2.32.2 in /usr/local/lib/python3.11/dist-packages (from datasets>=3.4.1) (2.32.3)\r\n",
            "Requirement already satisfied: tqdm>=4.66.3 in /usr/local/lib/python3.11/dist-packages (from datasets>=3.4.1) (4.67.1)\r\n",
            "Requirement already satisfied: xxhash in /usr/local/lib/python3.11/dist-packages (from datasets>=3.4.1) (3.5.0)\r\n",
            "Requirement already satisfied: multiprocess<0.70.17 in /usr/local/lib/python3.11/dist-packages (from datasets>=3.4.1) (0.70.16)\r\n",
            "Collecting fsspec<=2025.3.0,>=2023.1.0 (from fsspec[http]<=2025.3.0,>=2023.1.0->datasets>=3.4.1)\r\n",
            "  Downloading fsspec-2025.3.0-py3-none-any.whl.metadata (11 kB)\r\n",
            "Requirement already satisfied: packaging in /usr/local/lib/python3.11/dist-packages (from datasets>=3.4.1) (25.0)\r\n",
            "Requirement already satisfied: pyyaml>=5.1 in /usr/local/lib/python3.11/dist-packages (from datasets>=3.4.1) (6.0.2)\r\n",
            "Requirement already satisfied: typing-extensions>=3.7.4.3 in /usr/local/lib/python3.11/dist-packages (from huggingface_hub) (4.13.2)\r\n",
            "Requirement already satisfied: hf-xet<2.0.0,>=1.1.0 in /usr/local/lib/python3.11/dist-packages (from huggingface_hub) (1.1.0)\r\n",
            "Requirement already satisfied: aiohttp!=4.0.0a0,!=4.0.0a1 in /usr/local/lib/python3.11/dist-packages (from fsspec[http]<=2025.3.0,>=2023.1.0->datasets>=3.4.1) (3.11.18)\r\n",
            "Requirement already satisfied: mkl_fft in /usr/local/lib/python3.11/dist-packages (from numpy>=1.17->datasets>=3.4.1) (1.3.8)\r\n",
            "Requirement already satisfied: mkl_random in /usr/local/lib/python3.11/dist-packages (from numpy>=1.17->datasets>=3.4.1) (1.2.4)\r\n",
            "Requirement already satisfied: mkl_umath in /usr/local/lib/python3.11/dist-packages (from numpy>=1.17->datasets>=3.4.1) (0.1.1)\r\n",
            "Requirement already satisfied: mkl in /usr/local/lib/python3.11/dist-packages (from numpy>=1.17->datasets>=3.4.1) (2025.1.0)\r\n",
            "Requirement already satisfied: tbb4py in /usr/local/lib/python3.11/dist-packages (from numpy>=1.17->datasets>=3.4.1) (2022.1.0)\r\n",
            "Requirement already satisfied: mkl-service in /usr/local/lib/python3.11/dist-packages (from numpy>=1.17->datasets>=3.4.1) (2.4.1)\r\n",
            "Requirement already satisfied: charset-normalizer<4,>=2 in /usr/local/lib/python3.11/dist-packages (from requests>=2.32.2->datasets>=3.4.1) (3.4.2)\r\n",
            "Requirement already satisfied: idna<4,>=2.5 in /usr/local/lib/python3.11/dist-packages (from requests>=2.32.2->datasets>=3.4.1) (3.10)\r\n",
            "Requirement already satisfied: urllib3<3,>=1.21.1 in /usr/local/lib/python3.11/dist-packages (from requests>=2.32.2->datasets>=3.4.1) (2.4.0)\r\n",
            "Requirement already satisfied: certifi>=2017.4.17 in /usr/local/lib/python3.11/dist-packages (from requests>=2.32.2->datasets>=3.4.1) (2025.4.26)\r\n",
            "Requirement already satisfied: python-dateutil>=2.8.2 in /usr/local/lib/python3.11/dist-packages (from pandas->datasets>=3.4.1) (2.9.0.post0)\r\n",
            "Requirement already satisfied: pytz>=2020.1 in /usr/local/lib/python3.11/dist-packages (from pandas->datasets>=3.4.1) (2025.2)\r\n",
            "Requirement already satisfied: tzdata>=2022.7 in /usr/local/lib/python3.11/dist-packages (from pandas->datasets>=3.4.1) (2025.2)\r\n",
            "Requirement already satisfied: aiohappyeyeballs>=2.3.0 in /usr/local/lib/python3.11/dist-packages (from aiohttp!=4.0.0a0,!=4.0.0a1->fsspec[http]<=2025.3.0,>=2023.1.0->datasets>=3.4.1) (2.6.1)\r\n",
            "Requirement already satisfied: aiosignal>=1.1.2 in /usr/local/lib/python3.11/dist-packages (from aiohttp!=4.0.0a0,!=4.0.0a1->fsspec[http]<=2025.3.0,>=2023.1.0->datasets>=3.4.1) (1.3.2)\r\n",
            "Requirement already satisfied: attrs>=17.3.0 in /usr/local/lib/python3.11/dist-packages (from aiohttp!=4.0.0a0,!=4.0.0a1->fsspec[http]<=2025.3.0,>=2023.1.0->datasets>=3.4.1) (25.3.0)\r\n",
            "Requirement already satisfied: frozenlist>=1.1.1 in /usr/local/lib/python3.11/dist-packages (from aiohttp!=4.0.0a0,!=4.0.0a1->fsspec[http]<=2025.3.0,>=2023.1.0->datasets>=3.4.1) (1.6.0)\r\n",
            "Requirement already satisfied: multidict<7.0,>=4.5 in /usr/local/lib/python3.11/dist-packages (from aiohttp!=4.0.0a0,!=4.0.0a1->fsspec[http]<=2025.3.0,>=2023.1.0->datasets>=3.4.1) (6.4.3)\r\n",
            "Requirement already satisfied: propcache>=0.2.0 in /usr/local/lib/python3.11/dist-packages (from aiohttp!=4.0.0a0,!=4.0.0a1->fsspec[http]<=2025.3.0,>=2023.1.0->datasets>=3.4.1) (0.3.1)\r\n",
            "Requirement already satisfied: yarl<2.0,>=1.17.0 in /usr/local/lib/python3.11/dist-packages (from aiohttp!=4.0.0a0,!=4.0.0a1->fsspec[http]<=2025.3.0,>=2023.1.0->datasets>=3.4.1) (1.20.0)\r\n",
            "Requirement already satisfied: six>=1.5 in /usr/local/lib/python3.11/dist-packages (from python-dateutil>=2.8.2->pandas->datasets>=3.4.1) (1.17.0)\r\n",
            "Requirement already satisfied: intel-openmp<2026,>=2024 in /usr/local/lib/python3.11/dist-packages (from mkl->numpy>=1.17->datasets>=3.4.1) (2024.2.0)\r\n",
            "Requirement already satisfied: tbb==2022.* in /usr/local/lib/python3.11/dist-packages (from mkl->numpy>=1.17->datasets>=3.4.1) (2022.1.0)\r\n",
            "Requirement already satisfied: tcmlib==1.* in /usr/local/lib/python3.11/dist-packages (from tbb==2022.*->mkl->numpy>=1.17->datasets>=3.4.1) (1.3.0)\r\n",
            "Requirement already satisfied: intel-cmplr-lib-rt in /usr/local/lib/python3.11/dist-packages (from mkl_umath->numpy>=1.17->datasets>=3.4.1) (2024.2.0)\r\n",
            "Requirement already satisfied: intel-cmplr-lib-ur==2024.2.0 in /usr/local/lib/python3.11/dist-packages (from intel-openmp<2026,>=2024->mkl->numpy>=1.17->datasets>=3.4.1) (2024.2.0)\r\n",
            "Downloading fsspec-2025.3.0-py3-none-any.whl (193 kB)\r\n",
            "\u001b[2K   \u001b[90m━━━━━━━━━━━━━━━━━━━━━━━━━━━━━━━━━━━━━━━━\u001b[0m \u001b[32m193.6/193.6 kB\u001b[0m \u001b[31m4.7 MB/s\u001b[0m eta \u001b[36m0:00:00\u001b[0m\r\n",
            "\u001b[?25hInstalling collected packages: fsspec\r\n",
            "  Attempting uninstall: fsspec\r\n",
            "    Found existing installation: fsspec 2025.3.2\r\n",
            "    Uninstalling fsspec-2025.3.2:\r\n",
            "      Successfully uninstalled fsspec-2025.3.2\r\n",
            "\u001b[31mERROR: pip's dependency resolver does not currently take into account all the packages that are installed. This behaviour is the source of the following dependency conflicts.\r\n",
            "cesium 0.12.4 requires numpy<3.0,>=2.0, but you have numpy 1.26.4 which is incompatible.\r\n",
            "bigframes 1.42.0 requires rich<14,>=12.4.4, but you have rich 14.0.0 which is incompatible.\r\n",
            "torch 2.6.0+cu124 requires nvidia-cublas-cu12==12.4.5.8; platform_system == \"Linux\" and platform_machine == \"x86_64\", but you have nvidia-cublas-cu12 12.9.0.13 which is incompatible.\r\n",
            "torch 2.6.0+cu124 requires nvidia-cudnn-cu12==9.1.0.70; platform_system == \"Linux\" and platform_machine == \"x86_64\", but you have nvidia-cudnn-cu12 9.3.0.75 which is incompatible.\r\n",
            "torch 2.6.0+cu124 requires nvidia-cufft-cu12==11.2.1.3; platform_system == \"Linux\" and platform_machine == \"x86_64\", but you have nvidia-cufft-cu12 11.4.0.6 which is incompatible.\r\n",
            "torch 2.6.0+cu124 requires nvidia-curand-cu12==10.3.5.147; platform_system == \"Linux\" and platform_machine == \"x86_64\", but you have nvidia-curand-cu12 10.3.10.19 which is incompatible.\r\n",
            "torch 2.6.0+cu124 requires nvidia-cusolver-cu12==11.6.1.9; platform_system == \"Linux\" and platform_machine == \"x86_64\", but you have nvidia-cusolver-cu12 11.7.4.40 which is incompatible.\r\n",
            "torch 2.6.0+cu124 requires nvidia-cusparse-cu12==12.3.1.170; platform_system == \"Linux\" and platform_machine == \"x86_64\", but you have nvidia-cusparse-cu12 12.5.9.5 which is incompatible.\r\n",
            "torch 2.6.0+cu124 requires nvidia-nvjitlink-cu12==12.4.127; platform_system == \"Linux\" and platform_machine == \"x86_64\", but you have nvidia-nvjitlink-cu12 12.9.41 which is incompatible.\r\n",
            "gcsfs 2025.3.2 requires fsspec==2025.3.2, but you have fsspec 2025.3.0 which is incompatible.\u001b[0m\u001b[31m\r\n",
            "\u001b[0mSuccessfully installed fsspec-2025.3.0\r\n",
            "Collecting unsloth\r\n",
            "  Downloading unsloth-2025.6.2-py3-none-any.whl.metadata (47 kB)\r\n",
            "\u001b[2K     \u001b[90m━━━━━━━━━━━━━━━━━━━━━━━━━━━━━━━━━━━━━━━━\u001b[0m \u001b[32m47.1/47.1 kB\u001b[0m \u001b[31m1.4 MB/s\u001b[0m eta \u001b[36m0:00:00\u001b[0m\r\n",
            "\u001b[?25hDownloading unsloth-2025.6.2-py3-none-any.whl (276 kB)\r\n",
            "\u001b[2K   \u001b[90m━━━━━━━━━━━━━━━━━━━━━━━━━━━━━━━━━━━━━━━━\u001b[0m \u001b[32m277.0/277.0 kB\u001b[0m \u001b[31m6.7 MB/s\u001b[0m eta \u001b[36m0:00:00\u001b[0m\r\n",
            "\u001b[?25hInstalling collected packages: unsloth\r\n",
            "Successfully installed unsloth-2025.6.2\r\n"
          ]
        }
      ],
      "source": [
        "!pip install --no-deps bitsandbytes accelerate xformers==0.0.29.post3 peft trl==0.15.2 triton cut_cross_entropy unsloth_zoo\n",
        "!pip install sentencepiece protobuf \"datasets>=3.4.1\" huggingface_hub hf_transfer\n",
        "!pip install --no-deps unsloth"
      ]
    },
    {
      "cell_type": "code",
      "execution_count": null,
      "id": "75949abc",
      "metadata": {
        "execution": {
          "iopub.execute_input": "2025-06-16T04:12:19.740922Z",
          "iopub.status.busy": "2025-06-16T04:12:19.740227Z",
          "iopub.status.idle": "2025-06-16T04:12:20.266442Z",
          "shell.execute_reply": "2025-06-16T04:12:20.265869Z"
        },
        "id": "75949abc",
        "papermill": {
          "duration": 0.550316,
          "end_time": "2025-06-16T04:12:20.267898",
          "exception": false,
          "start_time": "2025-06-16T04:12:19.717582",
          "status": "completed"
        },
        "tags": []
      },
      "outputs": [],
      "source": [
        "import os\n",
        "from kaggle_secrets import UserSecretsClient\n",
        "user_secrets = UserSecretsClient()\n",
        "os.environ[\"HF_TOKEN\"] = user_secrets.get_secret(\"HF_TOKEN\")\n",
        "os.environ[\"WANDB_API_KEY\"] = user_secrets.get_secret(\"WANDB_API_KEY\")"
      ]
    },
    {
      "cell_type": "markdown",
      "id": "ff052c08",
      "metadata": {
        "id": "ff052c08",
        "papermill": {
          "duration": 0.020944,
          "end_time": "2025-06-16T04:12:20.310881",
          "exception": false,
          "start_time": "2025-06-16T04:12:20.289937",
          "status": "completed"
        },
        "tags": []
      },
      "source": [
        "# Prepare Datasets for fine-tuning"
      ]
    },
    {
      "cell_type": "code",
      "execution_count": null,
      "id": "f34d1a35",
      "metadata": {
        "execution": {
          "iopub.execute_input": "2025-06-16T04:12:20.354226Z",
          "iopub.status.busy": "2025-06-16T04:12:20.353746Z",
          "iopub.status.idle": "2025-06-16T04:13:20.463742Z",
          "shell.execute_reply": "2025-06-16T04:13:20.462864Z"
        },
        "id": "f34d1a35",
        "outputId": "c25b50a3-ef5a-4271-c1b7-6d62269f9b05",
        "papermill": {
          "duration": 60.132894,
          "end_time": "2025-06-16T04:13:20.465015",
          "exception": false,
          "start_time": "2025-06-16T04:12:20.332121",
          "status": "completed"
        },
        "tags": [],
        "colab": {
          "referenced_widgets": [
            "68b7ca95ffcc43f88ec88d8f0fad9755",
            "fc8e39b3213f4a44a9586dde1ad5c2d6",
            "1442175185e448bd81cb6c3a956d71cb",
            "93421e7fb3f74433892b7c013bf4cf4e",
            "f52be9aabdcd427ebdc4fabb9ec3a5c0",
            "44117dd081204b038dba1cd2a313be69"
          ]
        }
      },
      "outputs": [
        {
          "data": {
            "application/vnd.jupyter.widget-view+json": {
              "model_id": "68b7ca95ffcc43f88ec88d8f0fad9755",
              "version_major": 2,
              "version_minor": 0
            },
            "text/plain": [
              "README.md:   0%|          | 0.00/1.97k [00:00<?, ?B/s]"
            ]
          },
          "metadata": {},
          "output_type": "display_data"
        },
        {
          "data": {
            "application/vnd.jupyter.widget-view+json": {
              "model_id": "fc8e39b3213f4a44a9586dde1ad5c2d6",
              "version_major": 2,
              "version_minor": 0
            },
            "text/plain": [
              "medical_o1_sft.json:   0%|          | 0.00/58.2M [00:00<?, ?B/s]"
            ]
          },
          "metadata": {},
          "output_type": "display_data"
        },
        {
          "data": {
            "application/vnd.jupyter.widget-view+json": {
              "model_id": "1442175185e448bd81cb6c3a956d71cb",
              "version_major": 2,
              "version_minor": 0
            },
            "text/plain": [
              "Generating train split:   0%|          | 0/19704 [00:00<?, ? examples/s]"
            ]
          },
          "metadata": {},
          "output_type": "display_data"
        },
        {
          "data": {
            "application/vnd.jupyter.widget-view+json": {
              "model_id": "93421e7fb3f74433892b7c013bf4cf4e",
              "version_major": 2,
              "version_minor": 0
            },
            "text/plain": [
              "README.md:   0%|          | 0.00/1.03k [00:00<?, ?B/s]"
            ]
          },
          "metadata": {},
          "output_type": "display_data"
        },
        {
          "data": {
            "application/vnd.jupyter.widget-view+json": {
              "model_id": "f52be9aabdcd427ebdc4fabb9ec3a5c0",
              "version_major": 2,
              "version_minor": 0
            },
            "text/plain": [
              "questions-reponses_medecales.csv:   0%|          | 0.00/7.31M [00:00<?, ?B/s]"
            ]
          },
          "metadata": {},
          "output_type": "display_data"
        },
        {
          "data": {
            "application/vnd.jupyter.widget-view+json": {
              "model_id": "44117dd081204b038dba1cd2a313be69",
              "version_major": 2,
              "version_minor": 0
            },
            "text/plain": [
              "Generating train split: 0 examples [00:00, ? examples/s]"
            ]
          },
          "metadata": {},
          "output_type": "display_data"
        }
      ],
      "source": [
        "from datasets import load_dataset\n",
        "reasoning_ds = load_dataset(\"FreedomIntelligence/medical-o1-reasoning-SFT\", \"en\", split=\"train\")\n",
        "non_reasoning_ds = load_dataset(\"Laurent1/MedQuad-MedicalQnADataset_128tokens_max\", split=\"train\")"
      ]
    },
    {
      "cell_type": "code",
      "execution_count": null,
      "id": "b37a4315",
      "metadata": {
        "execution": {
          "iopub.execute_input": "2025-06-16T04:13:20.522584Z",
          "iopub.status.busy": "2025-06-16T04:13:20.521875Z",
          "iopub.status.idle": "2025-06-16T04:13:20.527354Z",
          "shell.execute_reply": "2025-06-16T04:13:20.526699Z"
        },
        "id": "b37a4315",
        "outputId": "2b4fd68a-bf0e-4382-ca28-c7bf47a1c2e4",
        "papermill": {
          "duration": 0.029938,
          "end_time": "2025-06-16T04:13:20.528464",
          "exception": false,
          "start_time": "2025-06-16T04:13:20.498526",
          "status": "completed"
        },
        "tags": []
      },
      "outputs": [
        {
          "data": {
            "text/plain": [
              "(Dataset({\n",
              "     features: ['Question', 'Complex_CoT', 'Response'],\n",
              "     num_rows: 19704\n",
              " }),\n",
              " {'Question': 'Given the symptoms of sudden weakness in the left arm and leg, recent long-distance travel, and the presence of swollen and tender right lower leg, what specific cardiac abnormality is most likely to be found upon further evaluation that could explain these findings?',\n",
              "  'Complex_CoT': \"Okay, let's see what's going on here. We've got sudden weakness in the person's left arm and leg - and that screams something neuro-related, maybe a stroke?\\n\\nBut wait, there's more. The right lower leg is swollen and tender, which is like waving a big flag for deep vein thrombosis, especially after a long flight or sitting around a lot.\\n\\nSo, now I'm thinking, how could a clot in the leg end up causing issues like weakness or stroke symptoms?\\n\\nOh, right! There's this thing called a paradoxical embolism. It can happen if there's some kind of short circuit in the heart - like a hole that shouldn't be there.\\n\\nLet's put this together: if a blood clot from the leg somehow travels to the left side of the heart, it could shoot off to the brain and cause that sudden weakness by blocking blood flow there.\\n\\nHmm, but how would the clot get from the right side of the heart to the left without going through the lungs and getting filtered out?\\n\\nHere's where our cardiac anomaly comes in: a patent foramen ovale or PFO. That's like a sneaky little shortcut in the heart between the right and left atria.\\n\\nAnd it's actually pretty common, found in about a quarter of adults, which definitely makes it the top suspect here.\\n\\nSo with all these pieces - long travel, leg clot, sudden weakness - a PFO fits the bill perfectly, letting a clot cross over and cause all this.\\n\\nEverything fits together pretty neatly, so I'd bet PFO is the heart issue waiting to be discovered. Yeah, that really clicks into place!\",\n",
              "  'Response': 'The specific cardiac abnormality most likely to be found in this scenario is a patent foramen ovale (PFO). This condition could allow a blood clot from the venous system, such as one from a deep vein thrombosis in the leg, to bypass the lungs and pass directly into the arterial circulation. This can occur when the clot moves from the right atrium to the left atrium through the PFO. Once in the arterial system, the clot can travel to the brain, potentially causing an embolic stroke, which would explain the sudden weakness in the left arm and leg. The connection between the recent travel, which increases the risk of deep vein thrombosis, and the neurological symptoms suggests the presence of a PFO facilitating a paradoxical embolism.'})"
            ]
          },
          "execution_count": 4,
          "metadata": {},
          "output_type": "execute_result"
        }
      ],
      "source": [
        "reasoning_ds, reasoning_ds[0]"
      ]
    },
    {
      "cell_type": "code",
      "execution_count": null,
      "id": "d9d25f03",
      "metadata": {
        "execution": {
          "iopub.execute_input": "2025-06-16T04:13:20.572175Z",
          "iopub.status.busy": "2025-06-16T04:13:20.571936Z",
          "iopub.status.idle": "2025-06-16T04:13:20.576760Z",
          "shell.execute_reply": "2025-06-16T04:13:20.576050Z"
        },
        "id": "d9d25f03",
        "outputId": "0c41af65-a9f8-4ee3-8dc8-04795e8783e9",
        "papermill": {
          "duration": 0.028021,
          "end_time": "2025-06-16T04:13:20.577988",
          "exception": false,
          "start_time": "2025-06-16T04:13:20.549967",
          "status": "completed"
        },
        "tags": []
      },
      "outputs": [
        {
          "data": {
            "text/plain": [
              "(Dataset({\n",
              "     features: ['text'],\n",
              "     num_rows: 15549\n",
              " }),\n",
              " {'text': 'Below is an instruction from Human. Write a response.\\n    ### Instruction:\\n    Who is at risk for Lymphocytic Choriomeningitis (LCM)? ?\\n    ### Response:\\n    LCMV infections can occur after exposure to fresh urine, droppings, saliva, or nesting materials from infected rodents.  Transmission may also occur when these materials are directly introduced into broken skin, the nose, the eyes, or the mouth, or presumably, via the bite of an infected rodent.\\n    '})"
            ]
          },
          "execution_count": 5,
          "metadata": {},
          "output_type": "execute_result"
        }
      ],
      "source": [
        "non_reasoning_ds, non_reasoning_ds[0]"
      ]
    },
    {
      "cell_type": "markdown",
      "id": "a158fcdc",
      "metadata": {
        "id": "a158fcdc",
        "papermill": {
          "duration": 0.074653,
          "end_time": "2025-06-16T04:13:20.674156",
          "exception": false,
          "start_time": "2025-06-16T04:13:20.599503",
          "status": "completed"
        },
        "tags": []
      },
      "source": [
        "# Load Model and Preprocess"
      ]
    },
    {
      "cell_type": "code",
      "execution_count": null,
      "id": "e49cef1c",
      "metadata": {
        "execution": {
          "iopub.execute_input": "2025-06-16T04:13:20.717978Z",
          "iopub.status.busy": "2025-06-16T04:13:20.717364Z",
          "iopub.status.idle": "2025-06-16T04:14:24.978519Z",
          "shell.execute_reply": "2025-06-16T04:14:24.977610Z"
        },
        "id": "e49cef1c",
        "outputId": "72ecabf2-8638-48c6-e9a3-a2bcb230c75a",
        "papermill": {
          "duration": 64.284734,
          "end_time": "2025-06-16T04:14:24.980190",
          "exception": false,
          "start_time": "2025-06-16T04:13:20.695456",
          "status": "completed"
        },
        "tags": [],
        "colab": {
          "referenced_widgets": [
            "fc84c54d6b884650a45193380987f8f3",
            "d5ee611d45f34a919647053a370a6f4b",
            "01c9f9764ef944418b07509aa284959f",
            "31f82c0addd44855989a4222f7754771",
            "0a100f1e165a4dbeb46c80002e329c7a",
            "acd955f09f094eb2bf187b05d6336c11",
            "cc23c3a5139946babb4308ba71a10f2e",
            "68709ad8fcbf4e07adc593a07f498bf2",
            "3a2c84d23903430883671c13b1c75bc4"
          ]
        }
      },
      "outputs": [
        {
          "name": "stdout",
          "output_type": "stream",
          "text": [
            "🦥 Unsloth: Will patch your computer to enable 2x faster free finetuning.\n"
          ]
        },
        {
          "name": "stderr",
          "output_type": "stream",
          "text": [
            "2025-06-16 04:13:35.240343: E external/local_xla/xla/stream_executor/cuda/cuda_fft.cc:477] Unable to register cuFFT factory: Attempting to register factory for plugin cuFFT when one has already been registered\n",
            "WARNING: All log messages before absl::InitializeLog() is called are written to STDERR\n",
            "E0000 00:00:1750047215.439969      19 cuda_dnn.cc:8310] Unable to register cuDNN factory: Attempting to register factory for plugin cuDNN when one has already been registered\n",
            "E0000 00:00:1750047215.500155      19 cuda_blas.cc:1418] Unable to register cuBLAS factory: Attempting to register factory for plugin cuBLAS when one has already been registered\n"
          ]
        },
        {
          "name": "stdout",
          "output_type": "stream",
          "text": [
            "🦥 Unsloth Zoo will now patch everything to make training faster!\n",
            "==((====))==  Unsloth 2025.6.2: Fast Qwen3 patching. Transformers: 4.51.3.\n",
            "   \\\\   /|    Tesla P100-PCIE-16GB. Num GPUs = 1. Max memory: 15.888 GB. Platform: Linux.\n",
            "O^O/ \\_/ \\    Torch: 2.6.0+cu124. CUDA: 6.0. CUDA Toolkit: 12.4. Triton: 3.2.0\n",
            "\\        /    Bfloat16 = FALSE. FA [Xformers = 0.0.29.post3. FA2 = False]\n",
            " \"-____-\"     Free license: http://github.com/unslothai/unsloth\n",
            "Unsloth: Fast downloading is enabled - ignore downloading bars which are red colored!\n"
          ]
        },
        {
          "data": {
            "application/vnd.jupyter.widget-view+json": {
              "model_id": "fc84c54d6b884650a45193380987f8f3",
              "version_major": 2,
              "version_minor": 0
            },
            "text/plain": [
              "model.safetensors:   0%|          | 0.00/1.41G [00:00<?, ?B/s]"
            ]
          },
          "metadata": {},
          "output_type": "display_data"
        },
        {
          "data": {
            "application/vnd.jupyter.widget-view+json": {
              "model_id": "d5ee611d45f34a919647053a370a6f4b",
              "version_major": 2,
              "version_minor": 0
            },
            "text/plain": [
              "generation_config.json:   0%|          | 0.00/237 [00:00<?, ?B/s]"
            ]
          },
          "metadata": {},
          "output_type": "display_data"
        },
        {
          "data": {
            "application/vnd.jupyter.widget-view+json": {
              "model_id": "01c9f9764ef944418b07509aa284959f",
              "version_major": 2,
              "version_minor": 0
            },
            "text/plain": [
              "tokenizer_config.json:   0%|          | 0.00/10.5k [00:00<?, ?B/s]"
            ]
          },
          "metadata": {},
          "output_type": "display_data"
        },
        {
          "data": {
            "application/vnd.jupyter.widget-view+json": {
              "model_id": "31f82c0addd44855989a4222f7754771",
              "version_major": 2,
              "version_minor": 0
            },
            "text/plain": [
              "vocab.json:   0%|          | 0.00/2.78M [00:00<?, ?B/s]"
            ]
          },
          "metadata": {},
          "output_type": "display_data"
        },
        {
          "data": {
            "application/vnd.jupyter.widget-view+json": {
              "model_id": "0a100f1e165a4dbeb46c80002e329c7a",
              "version_major": 2,
              "version_minor": 0
            },
            "text/plain": [
              "merges.txt:   0%|          | 0.00/1.67M [00:00<?, ?B/s]"
            ]
          },
          "metadata": {},
          "output_type": "display_data"
        },
        {
          "data": {
            "application/vnd.jupyter.widget-view+json": {
              "model_id": "acd955f09f094eb2bf187b05d6336c11",
              "version_major": 2,
              "version_minor": 0
            },
            "text/plain": [
              "added_tokens.json:   0%|          | 0.00/707 [00:00<?, ?B/s]"
            ]
          },
          "metadata": {},
          "output_type": "display_data"
        },
        {
          "data": {
            "application/vnd.jupyter.widget-view+json": {
              "model_id": "cc23c3a5139946babb4308ba71a10f2e",
              "version_major": 2,
              "version_minor": 0
            },
            "text/plain": [
              "special_tokens_map.json:   0%|          | 0.00/614 [00:00<?, ?B/s]"
            ]
          },
          "metadata": {},
          "output_type": "display_data"
        },
        {
          "data": {
            "application/vnd.jupyter.widget-view+json": {
              "model_id": "68709ad8fcbf4e07adc593a07f498bf2",
              "version_major": 2,
              "version_minor": 0
            },
            "text/plain": [
              "tokenizer.json:   0%|          | 0.00/11.4M [00:00<?, ?B/s]"
            ]
          },
          "metadata": {},
          "output_type": "display_data"
        },
        {
          "data": {
            "application/vnd.jupyter.widget-view+json": {
              "model_id": "3a2c84d23903430883671c13b1c75bc4",
              "version_major": 2,
              "version_minor": 0
            },
            "text/plain": [
              "chat_template.jinja:   0%|          | 0.00/4.67k [00:00<?, ?B/s]"
            ]
          },
          "metadata": {},
          "output_type": "display_data"
        }
      ],
      "source": [
        "from unsloth import FastLanguageModel\n",
        "import torch\n",
        "\n",
        "model, tokenizer = FastLanguageModel.from_pretrained(\n",
        "    model_name = \"unsloth/Qwen3-1.7B-unsloth-bnb-4bit\",\n",
        "    max_seq_length = 1024,\n",
        "    load_in_4bit = True,\n",
        "    load_in_8bit = False,\n",
        "    full_finetuning = False,\n",
        ")"
      ]
    },
    {
      "cell_type": "code",
      "execution_count": null,
      "id": "bae0285e",
      "metadata": {
        "execution": {
          "iopub.execute_input": "2025-06-16T04:14:25.029178Z",
          "iopub.status.busy": "2025-06-16T04:14:25.028595Z",
          "iopub.status.idle": "2025-06-16T04:14:31.827082Z",
          "shell.execute_reply": "2025-06-16T04:14:31.826449Z"
        },
        "id": "bae0285e",
        "outputId": "885fe5d2-2d2f-4081-cfd2-90f191184d07",
        "papermill": {
          "duration": 6.82377,
          "end_time": "2025-06-16T04:14:31.828394",
          "exception": false,
          "start_time": "2025-06-16T04:14:25.004624",
          "status": "completed"
        },
        "tags": []
      },
      "outputs": [
        {
          "name": "stderr",
          "output_type": "stream",
          "text": [
            "Unsloth 2025.6.2 patched 28 layers with 28 QKV layers, 28 O layers and 28 MLP layers.\n"
          ]
        }
      ],
      "source": [
        "model = FastLanguageModel.get_peft_model(\n",
        "    model,\n",
        "    r = 32,\n",
        "    target_modules = [\"q_proj\", \"k_proj\", \"v_proj\", \"o_proj\",\n",
        "                      \"gate_proj\", \"up_proj\", \"down_proj\",],\n",
        "    lora_alpha = 64,\n",
        "    bias = \"none\",\n",
        "    use_gradient_checkpointing = \"unsloth\",\n",
        "    random_state = 42,\n",
        "    use_rslora = True,\n",
        "    loftq_config = None,\n",
        ")"
      ]
    },
    {
      "cell_type": "code",
      "execution_count": null,
      "id": "e51851bb",
      "metadata": {
        "execution": {
          "iopub.execute_input": "2025-06-16T04:14:31.885490Z",
          "iopub.status.busy": "2025-06-16T04:14:31.884809Z",
          "iopub.status.idle": "2025-06-16T04:14:31.891154Z",
          "shell.execute_reply": "2025-06-16T04:14:31.890430Z"
        },
        "id": "e51851bb",
        "papermill": {
          "duration": 0.032404,
          "end_time": "2025-06-16T04:14:31.892209",
          "exception": false,
          "start_time": "2025-06-16T04:14:31.859805",
          "status": "completed"
        },
        "tags": []
      },
      "outputs": [],
      "source": [
        "def generate_conversation_normal(batch):\n",
        "    instructions = batch[\"text\"]\n",
        "    new_conversations = []\n",
        "\n",
        "    for text in instructions:\n",
        "        try:\n",
        "            parts = text.split(\"### Instruction:\")\n",
        "            instruction_and_response = parts[1]\n",
        "\n",
        "            question_part, answer_part = instruction_and_response.split(\"### Response:\")\n",
        "\n",
        "            question = question_part.strip()\n",
        "            answer = answer_part.strip()\n",
        "\n",
        "            new_conversations.append([\n",
        "                {\"role\": \"user\", \"content\": question},\n",
        "                {\"role\": \"assistant\", \"content\": answer},\n",
        "            ])\n",
        "        except (IndexError, ValueError):\n",
        "            print(f\"Skipping row: {text}\")\n",
        "            continue\n",
        "\n",
        "    return {\"conversations\": new_conversations}\n",
        "\n",
        "\n",
        "def generate_conversation_reasoning(batch):\n",
        "    out = []\n",
        "    for q, cot, ans in zip(\n",
        "            batch[\"Question\"],\n",
        "            batch[\"Complex_CoT\"],\n",
        "            batch[\"Response\"]):\n",
        "        assistant_text = f\"<think>\\n{cot}\\n</think>\\n\\n{ans}\"\n",
        "        out.append([\n",
        "            {\"role\": \"user\",      \"content\": q},\n",
        "            {\"role\": \"assistant\", \"content\": assistant_text},\n",
        "        ])\n",
        "    return {\"conversations\": out}"
      ]
    },
    {
      "cell_type": "code",
      "execution_count": null,
      "id": "85cefdd2",
      "metadata": {
        "execution": {
          "iopub.execute_input": "2025-06-16T04:14:31.942907Z",
          "iopub.status.busy": "2025-06-16T04:14:31.942664Z",
          "iopub.status.idle": "2025-06-16T04:14:33.575917Z",
          "shell.execute_reply": "2025-06-16T04:14:33.575071Z"
        },
        "id": "85cefdd2",
        "outputId": "08601c24-a23e-43e6-8f51-33a43e40b7fc",
        "papermill": {
          "duration": 1.660093,
          "end_time": "2025-06-16T04:14:33.577667",
          "exception": false,
          "start_time": "2025-06-16T04:14:31.917574",
          "status": "completed"
        },
        "tags": [],
        "colab": {
          "referenced_widgets": [
            "13bce4dab649422780aae12a591ef98b"
          ]
        }
      },
      "outputs": [
        {
          "data": {
            "application/vnd.jupyter.widget-view+json": {
              "model_id": "13bce4dab649422780aae12a591ef98b",
              "version_major": 2,
              "version_minor": 0
            },
            "text/plain": [
              "Map:   0%|          | 0/15549 [00:00<?, ? examples/s]"
            ]
          },
          "metadata": {},
          "output_type": "display_data"
        }
      ],
      "source": [
        "normal_conversations = tokenizer.apply_chat_template(\n",
        "    non_reasoning_ds.map(generate_conversation_normal, batched = True)[\"conversations\"],\n",
        "    tokenize = False,\n",
        ")"
      ]
    },
    {
      "cell_type": "code",
      "execution_count": null,
      "id": "1b2cff6a",
      "metadata": {
        "execution": {
          "iopub.execute_input": "2025-06-16T04:14:33.643452Z",
          "iopub.status.busy": "2025-06-16T04:14:33.643189Z",
          "iopub.status.idle": "2025-06-16T04:14:37.100927Z",
          "shell.execute_reply": "2025-06-16T04:14:37.100099Z"
        },
        "id": "1b2cff6a",
        "outputId": "bc9a7899-32c8-4013-8d32-8990dae5435b",
        "papermill": {
          "duration": 3.484365,
          "end_time": "2025-06-16T04:14:37.102387",
          "exception": false,
          "start_time": "2025-06-16T04:14:33.618022",
          "status": "completed"
        },
        "tags": [],
        "colab": {
          "referenced_widgets": [
            "6c1a34cb8fff4d50acfc3b44962a9636"
          ]
        }
      },
      "outputs": [
        {
          "data": {
            "application/vnd.jupyter.widget-view+json": {
              "model_id": "6c1a34cb8fff4d50acfc3b44962a9636",
              "version_major": 2,
              "version_minor": 0
            },
            "text/plain": [
              "Map:   0%|          | 0/19704 [00:00<?, ? examples/s]"
            ]
          },
          "metadata": {},
          "output_type": "display_data"
        }
      ],
      "source": [
        "reasoning_conversations = tokenizer.apply_chat_template(\n",
        "    reasoning_ds.map(generate_conversation_reasoning, batched = True)[\"conversations\"],\n",
        "    tokenize = False,\n",
        ")"
      ]
    },
    {
      "cell_type": "code",
      "execution_count": null,
      "id": "f97b3259",
      "metadata": {
        "execution": {
          "iopub.execute_input": "2025-06-16T04:14:37.151441Z",
          "iopub.status.busy": "2025-06-16T04:14:37.150967Z",
          "iopub.status.idle": "2025-06-16T04:14:37.154920Z",
          "shell.execute_reply": "2025-06-16T04:14:37.154258Z"
        },
        "id": "f97b3259",
        "outputId": "6b107d52-a6e8-4c21-e846-8adac9aae23a",
        "papermill": {
          "duration": 0.028992,
          "end_time": "2025-06-16T04:14:37.155954",
          "exception": false,
          "start_time": "2025-06-16T04:14:37.126962",
          "status": "completed"
        },
        "tags": []
      },
      "outputs": [
        {
          "name": "stdout",
          "output_type": "stream",
          "text": [
            "<|im_start|>user\n",
            "Who is at risk for Lymphocytic Choriomeningitis (LCM)? ?<|im_end|>\n",
            "<|im_start|>assistant\n",
            "<think>\n",
            "\n",
            "</think>\n",
            "\n",
            "LCMV infections can occur after exposure to fresh urine, droppings, saliva, or nesting materials from infected rodents.  Transmission may also occur when these materials are directly introduced into broken skin, the nose, the eyes, or the mouth, or presumably, via the bite of an infected rodent.<|im_end|>\n",
            "\n"
          ]
        }
      ],
      "source": [
        "print(normal_conversations[0])"
      ]
    },
    {
      "cell_type": "code",
      "execution_count": null,
      "id": "c4864cd8",
      "metadata": {
        "execution": {
          "iopub.execute_input": "2025-06-16T04:14:37.204153Z",
          "iopub.status.busy": "2025-06-16T04:14:37.203648Z",
          "iopub.status.idle": "2025-06-16T04:14:37.207655Z",
          "shell.execute_reply": "2025-06-16T04:14:37.206912Z"
        },
        "id": "c4864cd8",
        "outputId": "6416598e-ab95-44a8-c75e-8e3b0bbdf20f",
        "papermill": {
          "duration": 0.029012,
          "end_time": "2025-06-16T04:14:37.208800",
          "exception": false,
          "start_time": "2025-06-16T04:14:37.179788",
          "status": "completed"
        },
        "tags": []
      },
      "outputs": [
        {
          "name": "stdout",
          "output_type": "stream",
          "text": [
            "<|im_start|>user\n",
            "Given the symptoms of sudden weakness in the left arm and leg, recent long-distance travel, and the presence of swollen and tender right lower leg, what specific cardiac abnormality is most likely to be found upon further evaluation that could explain these findings?<|im_end|>\n",
            "<|im_start|>assistant\n",
            "<think>\n",
            "Okay, let's see what's going on here. We've got sudden weakness in the person's left arm and leg - and that screams something neuro-related, maybe a stroke?\n",
            "\n",
            "But wait, there's more. The right lower leg is swollen and tender, which is like waving a big flag for deep vein thrombosis, especially after a long flight or sitting around a lot.\n",
            "\n",
            "So, now I'm thinking, how could a clot in the leg end up causing issues like weakness or stroke symptoms?\n",
            "\n",
            "Oh, right! There's this thing called a paradoxical embolism. It can happen if there's some kind of short circuit in the heart - like a hole that shouldn't be there.\n",
            "\n",
            "Let's put this together: if a blood clot from the leg somehow travels to the left side of the heart, it could shoot off to the brain and cause that sudden weakness by blocking blood flow there.\n",
            "\n",
            "Hmm, but how would the clot get from the right side of the heart to the left without going through the lungs and getting filtered out?\n",
            "\n",
            "Here's where our cardiac anomaly comes in: a patent foramen ovale or PFO. That's like a sneaky little shortcut in the heart between the right and left atria.\n",
            "\n",
            "And it's actually pretty common, found in about a quarter of adults, which definitely makes it the top suspect here.\n",
            "\n",
            "So with all these pieces - long travel, leg clot, sudden weakness - a PFO fits the bill perfectly, letting a clot cross over and cause all this.\n",
            "\n",
            "Everything fits together pretty neatly, so I'd bet PFO is the heart issue waiting to be discovered. Yeah, that really clicks into place!\n",
            "</think>\n",
            "\n",
            "The specific cardiac abnormality most likely to be found in this scenario is a patent foramen ovale (PFO). This condition could allow a blood clot from the venous system, such as one from a deep vein thrombosis in the leg, to bypass the lungs and pass directly into the arterial circulation. This can occur when the clot moves from the right atrium to the left atrium through the PFO. Once in the arterial system, the clot can travel to the brain, potentially causing an embolic stroke, which would explain the sudden weakness in the left arm and leg. The connection between the recent travel, which increases the risk of deep vein thrombosis, and the neurological symptoms suggests the presence of a PFO facilitating a paradoxical embolism.<|im_end|>\n",
            "\n"
          ]
        }
      ],
      "source": [
        "print(reasoning_conversations[0])"
      ]
    },
    {
      "cell_type": "code",
      "execution_count": null,
      "id": "b5fe793c",
      "metadata": {
        "execution": {
          "iopub.execute_input": "2025-06-16T04:14:37.256596Z",
          "iopub.status.busy": "2025-06-16T04:14:37.256372Z",
          "iopub.status.idle": "2025-06-16T04:14:37.260670Z",
          "shell.execute_reply": "2025-06-16T04:14:37.260137Z"
        },
        "id": "b5fe793c",
        "outputId": "898608f5-e8bc-4cc2-ecef-d90faf328c6c",
        "papermill": {
          "duration": 0.029124,
          "end_time": "2025-06-16T04:14:37.261603",
          "exception": false,
          "start_time": "2025-06-16T04:14:37.232479",
          "status": "completed"
        },
        "tags": []
      },
      "outputs": [
        {
          "data": {
            "text/plain": [
              "(15549, 19704)"
            ]
          },
          "execution_count": 13,
          "metadata": {},
          "output_type": "execute_result"
        }
      ],
      "source": [
        "len(normal_conversations), len(reasoning_conversations)"
      ]
    },
    {
      "cell_type": "markdown",
      "id": "a4e2f562",
      "metadata": {
        "id": "a4e2f562",
        "papermill": {
          "duration": 0.023089,
          "end_time": "2025-06-16T04:14:37.308397",
          "exception": false,
          "start_time": "2025-06-16T04:14:37.285308",
          "status": "completed"
        },
        "tags": []
      },
      "source": [
        "# Select 80% Reasoning and 20% Normal"
      ]
    },
    {
      "cell_type": "code",
      "execution_count": null,
      "id": "fd1daeb0",
      "metadata": {
        "execution": {
          "iopub.execute_input": "2025-06-16T04:14:37.356246Z",
          "iopub.status.busy": "2025-06-16T04:14:37.356032Z",
          "iopub.status.idle": "2025-06-16T04:14:37.368281Z",
          "shell.execute_reply": "2025-06-16T04:14:37.367759Z"
        },
        "id": "fd1daeb0",
        "papermill": {
          "duration": 0.037385,
          "end_time": "2025-06-16T04:14:37.369353",
          "exception": false,
          "start_time": "2025-06-16T04:14:37.331968",
          "status": "completed"
        },
        "tags": []
      },
      "outputs": [],
      "source": [
        "import pandas as pd\n",
        "\n",
        "total_samples = 12000\n",
        "eval_ratio = 0.15\n",
        "\n",
        "normal_total = int(0.2 * total_samples)\n",
        "reasoning_total = int(0.8 * total_samples)\n",
        "\n",
        "normal_eval_size = int(normal_total * eval_ratio)\n",
        "reasoning_eval_size = int(reasoning_total * eval_ratio)\n",
        "\n",
        "normal_train_size = normal_total - normal_eval_size\n",
        "reasoning_train_size = reasoning_total - reasoning_eval_size\n",
        "\n",
        "normal_df = pd.Series(normal_conversations)\n",
        "reasoning_df = pd.Series(reasoning_conversations)"
      ]
    },
    {
      "cell_type": "code",
      "execution_count": null,
      "id": "07ee49d6",
      "metadata": {
        "execution": {
          "iopub.execute_input": "2025-06-16T04:14:37.417022Z",
          "iopub.status.busy": "2025-06-16T04:14:37.416823Z",
          "iopub.status.idle": "2025-06-16T04:14:37.424966Z",
          "shell.execute_reply": "2025-06-16T04:14:37.424222Z"
        },
        "id": "07ee49d6",
        "papermill": {
          "duration": 0.033204,
          "end_time": "2025-06-16T04:14:37.426027",
          "exception": false,
          "start_time": "2025-06-16T04:14:37.392823",
          "status": "completed"
        },
        "tags": []
      },
      "outputs": [],
      "source": [
        "normal_sample = normal_df.sample(n=normal_total, random_state=42)\n",
        "reasoning_sample = reasoning_df.sample(n=reasoning_total, random_state=42)"
      ]
    },
    {
      "cell_type": "code",
      "execution_count": null,
      "id": "94cb4df9",
      "metadata": {
        "execution": {
          "iopub.execute_input": "2025-06-16T04:14:37.474264Z",
          "iopub.status.busy": "2025-06-16T04:14:37.473822Z",
          "iopub.status.idle": "2025-06-16T04:14:37.478114Z",
          "shell.execute_reply": "2025-06-16T04:14:37.477185Z"
        },
        "id": "94cb4df9",
        "papermill": {
          "duration": 0.029911,
          "end_time": "2025-06-16T04:14:37.479458",
          "exception": false,
          "start_time": "2025-06-16T04:14:37.449547",
          "status": "completed"
        },
        "tags": []
      },
      "outputs": [],
      "source": [
        "normal_train = normal_sample.iloc[:normal_train_size]\n",
        "normal_eval = normal_sample.iloc[normal_train_size:]\n",
        "\n",
        "\n",
        "reasoning_train = reasoning_sample.iloc[:reasoning_train_size]\n",
        "reasoning_eval = reasoning_sample.iloc[reasoning_eval_size:]"
      ]
    },
    {
      "cell_type": "code",
      "execution_count": null,
      "id": "7a76807a",
      "metadata": {
        "execution": {
          "iopub.execute_input": "2025-06-16T04:14:37.528463Z",
          "iopub.status.busy": "2025-06-16T04:14:37.527902Z",
          "iopub.status.idle": "2025-06-16T04:14:37.918734Z",
          "shell.execute_reply": "2025-06-16T04:14:37.917750Z"
        },
        "id": "7a76807a",
        "papermill": {
          "duration": 0.416848,
          "end_time": "2025-06-16T04:14:37.920229",
          "exception": false,
          "start_time": "2025-06-16T04:14:37.503381",
          "status": "completed"
        },
        "tags": []
      },
      "outputs": [],
      "source": [
        "from datasets import Dataset\n",
        "\n",
        "train_data = pd.concat([normal_train, reasoning_train])\n",
        "train_data.name = \"text\"\n",
        "train_dataset = Dataset.from_pandas(pd.DataFrame(train_data))\n",
        "train_dataset = train_dataset.shuffle(seed=42)\n",
        "\n",
        "\n",
        "eval_data = pd.concat([normal_eval, reasoning_eval])\n",
        "eval_data.name = \"text\"\n",
        "eval_dataset = Dataset.from_pandas(pd.DataFrame(eval_data))\n",
        "eval_dataset = eval_dataset.shuffle(seed=43)"
      ]
    },
    {
      "cell_type": "code",
      "execution_count": null,
      "id": "09a211c4",
      "metadata": {
        "execution": {
          "iopub.execute_input": "2025-06-16T04:14:37.969792Z",
          "iopub.status.busy": "2025-06-16T04:14:37.969169Z",
          "iopub.status.idle": "2025-06-16T04:14:37.973720Z",
          "shell.execute_reply": "2025-06-16T04:14:37.973110Z"
        },
        "id": "09a211c4",
        "outputId": "74149a9b-a10c-4808-fbac-501f7bdcae5f",
        "papermill": {
          "duration": 0.029851,
          "end_time": "2025-06-16T04:14:37.974727",
          "exception": false,
          "start_time": "2025-06-16T04:14:37.944876",
          "status": "completed"
        },
        "tags": []
      },
      "outputs": [
        {
          "data": {
            "text/plain": [
              "(10200, 8520)"
            ]
          },
          "execution_count": 18,
          "metadata": {},
          "output_type": "execute_result"
        }
      ],
      "source": [
        "len(train_dataset), len(eval_dataset)"
      ]
    },
    {
      "cell_type": "code",
      "execution_count": null,
      "id": "b718f70b",
      "metadata": {
        "execution": {
          "iopub.execute_input": "2025-06-16T04:14:38.023101Z",
          "iopub.status.busy": "2025-06-16T04:14:38.022875Z",
          "iopub.status.idle": "2025-06-16T04:14:38.027174Z",
          "shell.execute_reply": "2025-06-16T04:14:38.026625Z"
        },
        "id": "b718f70b",
        "outputId": "509680a9-be2f-4b9c-cb7d-60e16b7d55be",
        "papermill": {
          "duration": 0.029734,
          "end_time": "2025-06-16T04:14:38.028257",
          "exception": false,
          "start_time": "2025-06-16T04:14:37.998523",
          "status": "completed"
        },
        "tags": []
      },
      "outputs": [
        {
          "data": {
            "text/plain": [
              "(2040, 8160)"
            ]
          },
          "execution_count": 19,
          "metadata": {},
          "output_type": "execute_result"
        }
      ],
      "source": [
        "len(normal_train), len(reasoning_train)"
      ]
    },
    {
      "cell_type": "code",
      "execution_count": null,
      "id": "d8c97bab",
      "metadata": {
        "execution": {
          "iopub.execute_input": "2025-06-16T04:14:38.076620Z",
          "iopub.status.busy": "2025-06-16T04:14:38.076372Z",
          "iopub.status.idle": "2025-06-16T04:14:38.081414Z",
          "shell.execute_reply": "2025-06-16T04:14:38.080729Z"
        },
        "id": "d8c97bab",
        "outputId": "a308157e-d866-48ef-a331-be10e45c3745",
        "papermill": {
          "duration": 0.030098,
          "end_time": "2025-06-16T04:14:38.082527",
          "exception": false,
          "start_time": "2025-06-16T04:14:38.052429",
          "status": "completed"
        },
        "tags": []
      },
      "outputs": [
        {
          "data": {
            "text/plain": [
              "(Dataset({\n",
              "     features: ['text', '__index_level_0__'],\n",
              "     num_rows: 10200\n",
              " }),\n",
              " {'text': \"<|im_start|>user\\nA 44-year-old woman with rheumatoid arthritis develops painful oral ulcers and elevated liver enzymes several weeks after starting a new medication. The medication's side effect profile and the lab findings suggest a specific drug action. What is the primary mechanism of action of this drug used to treat her rheumatoid arthritis?<|im_end|>\\n<|im_start|>assistant\\n<think>\\nAlright, here's a situation. A 44-year-old woman has rheumatoid arthritis. Now, she starts experiencing painful oral ulcers and her liver enzymes are on the rise a few weeks after kicking off a new medication. These are some pretty specific red flags.\\n\\nHmm, let's think. Oral ulcers and liver issues sound familiar, especially if she's taking something new for her rheumatoid arthritis. That's where methotrexate comes into play. It's a common drug for treating that condition and these side effects line up with it.\\n\\nSo, what's methotrexate all about? It's known as an antimetabolite and specifically, it's an antifolate. Why does that matter? Well, it works by stopping an enzyme called dihydrofolate reductase. What that means is, it reduces something called tetrahydrofolate. And why is that important? Because tetrahydrofolate is needed for making the building blocks of DNA, purines, and thymidylate.\\n\\nOh, I see! By blocking this enzyme, methotrexate messes with the DNA synthesis, which affects rapidly dividing cells, like those in the immune system.\\n\\nLet's tie this back. The painful oral ulcers and those upset liver enzymes could be traced back to this whole folate inhibition thing. It affects rapidly dividing cells like those in the mouth and liver.\\n\\nSo, putting it all together, the main action methotrexate is taking here is inhibiting dihydrofolate reductase. That reduction in folate availability is messing with some cells that are pretty important for the mouth and liver, leading to the symptoms she's experiencing.\\n\\nMakes sense, right? Methotrexate causing these is consistent with its mechanism, and that's why it's all lining up.\\n</think>\\n\\nThe primary mechanism of action of the drug causing these side effects in the treatment of rheumatoid arthritis is the inhibition of dihydrofolate reductase. This points to methotrexate, a commonly used medication for rheumatoid arthritis, which can lead to oral ulcers and elevated liver enzymes due to its effect on rapidly dividing cells by disrupting folate metabolism.<|im_end|>\\n\",\n",
              "  '__index_level_0__': 4969})"
            ]
          },
          "execution_count": 20,
          "metadata": {},
          "output_type": "execute_result"
        }
      ],
      "source": [
        "train_dataset, train_dataset[0]"
      ]
    },
    {
      "cell_type": "markdown",
      "id": "e44af898",
      "metadata": {
        "id": "e44af898",
        "papermill": {
          "duration": 0.023715,
          "end_time": "2025-06-16T04:14:38.130260",
          "exception": false,
          "start_time": "2025-06-16T04:14:38.106545",
          "status": "completed"
        },
        "tags": []
      },
      "source": [
        "# Train the model"
      ]
    },
    {
      "cell_type": "code",
      "execution_count": null,
      "id": "e642f80f",
      "metadata": {
        "execution": {
          "iopub.execute_input": "2025-06-16T04:14:38.179200Z",
          "iopub.status.busy": "2025-06-16T04:14:38.178752Z",
          "iopub.status.idle": "2025-06-16T04:14:38.182153Z",
          "shell.execute_reply": "2025-06-16T04:14:38.181590Z"
        },
        "id": "e642f80f",
        "papermill": {
          "duration": 0.028835,
          "end_time": "2025-06-16T04:14:38.183238",
          "exception": false,
          "start_time": "2025-06-16T04:14:38.154403",
          "status": "completed"
        },
        "tags": []
      },
      "outputs": [],
      "source": [
        "OUTPUT_DIR = \"qwen3_med_lora_adapter\"\n",
        "HF_REPO    = \"Thiraput01/QwenMed-1.7B-Reasoning\""
      ]
    },
    {
      "cell_type": "code",
      "execution_count": null,
      "id": "ae34aa04",
      "metadata": {
        "execution": {
          "iopub.execute_input": "2025-06-16T04:14:38.232289Z",
          "iopub.status.busy": "2025-06-16T04:14:38.232065Z",
          "iopub.status.idle": "2025-06-16T04:15:02.209851Z",
          "shell.execute_reply": "2025-06-16T04:15:02.209032Z"
        },
        "id": "ae34aa04",
        "outputId": "3561a794-8f34-41a3-d675-a2be3ef32cf8",
        "papermill": {
          "duration": 24.003667,
          "end_time": "2025-06-16T04:15:02.211101",
          "exception": false,
          "start_time": "2025-06-16T04:14:38.207434",
          "status": "completed"
        },
        "tags": [],
        "colab": {
          "referenced_widgets": [
            "0f653bc9392a4c26a34de04513de04de",
            "84f800f6792f469abe5a962510ff4e4a"
          ]
        }
      },
      "outputs": [
        {
          "data": {
            "application/vnd.jupyter.widget-view+json": {
              "model_id": "0f653bc9392a4c26a34de04513de04de",
              "version_major": 2,
              "version_minor": 0
            },
            "text/plain": [
              "Unsloth: Tokenizing [\"text\"] (num_proc=4):   0%|          | 0/10200 [00:00<?, ? examples/s]"
            ]
          },
          "metadata": {},
          "output_type": "display_data"
        },
        {
          "data": {
            "application/vnd.jupyter.widget-view+json": {
              "model_id": "84f800f6792f469abe5a962510ff4e4a",
              "version_major": 2,
              "version_minor": 0
            },
            "text/plain": [
              "Unsloth: Tokenizing [\"text\"] (num_proc=4):   0%|          | 0/8520 [00:00<?, ? examples/s]"
            ]
          },
          "metadata": {},
          "output_type": "display_data"
        },
        {
          "name": "stderr",
          "output_type": "stream",
          "text": [
            "\u001b[34m\u001b[1mwandb\u001b[0m: Using wandb-core as the SDK backend.  Please refer to https://wandb.me/wandb-core for more information.\n",
            "\u001b[34m\u001b[1mwandb\u001b[0m: Currently logged in as: \u001b[33mthiraputball\u001b[0m (\u001b[33mthiraputball-chulalongkorn-university\u001b[0m) to \u001b[32mhttps://api.wandb.ai\u001b[0m. Use \u001b[1m`wandb login --relogin`\u001b[0m to force relogin\n",
            "\u001b[34m\u001b[1mwandb\u001b[0m: Tracking run with wandb version 0.19.9\n",
            "\u001b[34m\u001b[1mwandb\u001b[0m: Run data is saved locally in \u001b[35m\u001b[1m/kaggle/working/wandb/run-20250616_041500-vdw5cgdp\u001b[0m\n",
            "\u001b[34m\u001b[1mwandb\u001b[0m: Run \u001b[1m`wandb offline`\u001b[0m to turn off syncing.\n",
            "\u001b[34m\u001b[1mwandb\u001b[0m: Syncing run \u001b[33mqlora-1.7b-run4\u001b[0m\n",
            "\u001b[34m\u001b[1mwandb\u001b[0m: ⭐️ View project at \u001b[34m\u001b[4mhttps://wandb.ai/thiraputball-chulalongkorn-university/qwen3-med\u001b[0m\n",
            "\u001b[34m\u001b[1mwandb\u001b[0m: 🚀 View run at \u001b[34m\u001b[4mhttps://wandb.ai/thiraputball-chulalongkorn-university/qwen3-med/runs/vdw5cgdp\u001b[0m\n"
          ]
        },
        {
          "data": {
            "text/html": [
              "<button onClick=\"this.nextSibling.style.display='block';this.style.display='none';\">Display W&B run</button><iframe src='https://wandb.ai/thiraputball-chulalongkorn-university/qwen3-med/runs/vdw5cgdp?jupyter=true' style='border:none;width:100%;height:420px;display:none;'></iframe>"
            ],
            "text/plain": [
              "<wandb.sdk.wandb_run.Run at 0x7ea29bc2c0d0>"
            ]
          },
          "execution_count": 22,
          "metadata": {},
          "output_type": "execute_result"
        }
      ],
      "source": [
        "from trl import SFTTrainer, SFTConfig\n",
        "import wandb\n",
        "\n",
        "training_args = SFTConfig(\n",
        "        dataset_text_field = \"text\",\n",
        "\n",
        "        per_device_train_batch_size = 2,\n",
        "        per_device_eval_batch_size = 4,\n",
        "        gradient_accumulation_steps = 8,\n",
        "\n",
        "        warmup_ratio  = 0.1,\n",
        "        num_train_epochs = 2,\n",
        "        learning_rate = 5e-5,\n",
        "        logging_steps = 10,\n",
        "        eval_steps = 300,\n",
        "        save_steps = 300,\n",
        "        eval_strategy = \"steps\",\n",
        "        save_strategy = \"steps\",\n",
        "        load_best_model_at_end = True,\n",
        "        metric_for_best_model = \"eval_loss\",\n",
        "        greater_is_better = False,\n",
        "        optim = \"adamw_8bit\",\n",
        "        weight_decay = 0.01,\n",
        "        lr_scheduler_type = \"cosine\",\n",
        "        seed = 42,\n",
        "        push_to_hub = True,\n",
        "        hub_strategy = \"checkpoint\",\n",
        "        hub_model_id = HF_REPO,\n",
        "        report_to = \"wandb\",\n",
        ")\n",
        "\n",
        "trainer = SFTTrainer(\n",
        "    model = model,\n",
        "    tokenizer = tokenizer,\n",
        "    train_dataset = train_dataset,\n",
        "    eval_dataset = eval_dataset,\n",
        "    args = training_args,\n",
        ")\n",
        "\n",
        "wandb.init(\n",
        "    project = \"qwen3-med\",\n",
        "    name    = \"qlora-1.7b-run4\",\n",
        "    config  = {\n",
        "        \"model\": \"Qwen3-1.7B\",\n",
        "        \"lora_r\": 32,\n",
        "        \"lr\": 5e-5,\n",
        "        \"batch_size\": 2,\n",
        "        \"num_epochs\": 1,\n",
        "      },\n",
        ")"
      ]
    },
    {
      "cell_type": "code",
      "execution_count": null,
      "id": "b0bf334e",
      "metadata": {
        "execution": {
          "iopub.execute_input": "2025-06-16T04:15:02.263542Z",
          "iopub.status.busy": "2025-06-16T04:15:02.263017Z",
          "iopub.status.idle": "2025-06-16T14:35:32.757833Z",
          "shell.execute_reply": "2025-06-16T14:35:32.756939Z"
        },
        "id": "b0bf334e",
        "outputId": "077af518-634e-4cdc-8838-3a41b93b9d3e",
        "papermill": {
          "duration": 37230.522249,
          "end_time": "2025-06-16T14:35:32.759383",
          "exception": false,
          "start_time": "2025-06-16T04:15:02.237134",
          "status": "completed"
        },
        "tags": []
      },
      "outputs": [
        {
          "name": "stderr",
          "output_type": "stream",
          "text": [
            "==((====))==  Unsloth - 2x faster free finetuning | Num GPUs used = 1\n",
            "   \\\\   /|    Num examples = 10,200 | Num Epochs = 2 | Total steps = 1,274\n",
            "O^O/ \\_/ \\    Batch size per device = 2 | Gradient accumulation steps = 8\n",
            "\\        /    Data Parallel GPUs = 1 | Total batch size (2 x 8 x 1) = 16\n",
            " \"-____-\"     Trainable parameters = 34,865,152/1,700,000,000 (2.05% trained)\n",
            "\u001b[34m\u001b[1mwandb\u001b[0m: \u001b[33mWARNING\u001b[0m The `run_name` is currently set to the same value as `TrainingArguments.output_dir`. If this was not intended, please specify a different run name by setting the `TrainingArguments.run_name` parameter.\n"
          ]
        },
        {
          "name": "stdout",
          "output_type": "stream",
          "text": [
            "Unsloth: Will smartly offload gradients to save VRAM!\n"
          ]
        },
        {
          "data": {
            "text/html": [
              "\n",
              "    <div>\n",
              "      \n",
              "      <progress value='1274' max='1274' style='width:300px; height:20px; vertical-align: middle;'></progress>\n",
              "      [1274/1274 10:19:43, Epoch 1/2]\n",
              "    </div>\n",
              "    <table border=\"1\" class=\"dataframe\">\n",
              "  <thead>\n",
              " <tr style=\"text-align: left;\">\n",
              "      <th>Step</th>\n",
              "      <th>Training Loss</th>\n",
              "      <th>Validation Loss</th>\n",
              "    </tr>\n",
              "  </thead>\n",
              "  <tbody>\n",
              "    <tr>\n",
              "      <td>300</td>\n",
              "      <td>1.531300</td>\n",
              "      <td>1.494739</td>\n",
              "    </tr>\n",
              "    <tr>\n",
              "      <td>600</td>\n",
              "      <td>1.461700</td>\n",
              "      <td>1.429246</td>\n",
              "    </tr>\n",
              "    <tr>\n",
              "      <td>900</td>\n",
              "      <td>1.374300</td>\n",
              "      <td>1.388162</td>\n",
              "    </tr>\n",
              "    <tr>\n",
              "      <td>1200</td>\n",
              "      <td>1.361300</td>\n",
              "      <td>1.376883</td>\n",
              "    </tr>\n",
              "  </tbody>\n",
              "</table><p>"
            ],
            "text/plain": [
              "<IPython.core.display.HTML object>"
            ]
          },
          "metadata": {},
          "output_type": "display_data"
        },
        {
          "name": "stderr",
          "output_type": "stream",
          "text": [
            "Unsloth: Not an error, but Qwen3ForCausalLM does not accept `num_items_in_batch`.\n",
            "Using gradient accumulation will be very slightly less accurate.\n",
            "Read more on gradient accumulation issues here: https://unsloth.ai/blog/gradient\n"
          ]
        }
      ],
      "source": [
        "trainer_stats = trainer.train()"
      ]
    }
  ],
  "metadata": {
    "accelerator": "GPU",
    "colab": {
      "gpuType": "T4",
      "provenance": [],
      "include_colab_link": true
    },
    "kaggle": {
      "accelerator": "gpu",
      "dataSources": [],
      "isGpuEnabled": true,
      "isInternetEnabled": true,
      "language": "python",
      "sourceType": "notebook"
    },
    "kernelspec": {
      "display_name": "Python 3",
      "language": "python",
      "name": "python3"
    },
    "language_info": {
      "codemirror_mode": {
        "name": "ipython",
        "version": 3
      },
      "file_extension": ".py",
      "mimetype": "text/x-python",
      "name": "python",
      "nbconvert_exporter": "python",
      "pygments_lexer": "ipython3",
      "version": "3.11.11"
    },
    "papermill": {
      "default_parameters": {},
      "duration": 37415.591611,
      "end_time": "2025-06-16T14:35:37.849403",
      "environment_variables": {},
      "exception": null,
      "input_path": "__notebook__.ipynb",
      "output_path": "__notebook__.ipynb",
      "parameters": {},
      "start_time": "2025-06-16T04:12:02.257792",
      "version": "2.6.0"
    },
    "widgets": {
      "application/vnd.jupyter.widget-state+json": {}
    }
  },
  "nbformat": 4,
  "nbformat_minor": 5
}